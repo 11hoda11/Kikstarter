{
 "cells": [
  {
   "cell_type": "markdown",
   "id": "8ca91991",
   "metadata": {},
   "source": [
    "# Hoda Nabavi"
   ]
  },
  {
   "cell_type": "markdown",
   "id": "a4a1d8ef",
   "metadata": {},
   "source": [
    "# Introduction:\n",
    "'Kickstarter' is one of the most popular platforms for promoting and bringing to life creative projects and thus 150,836 projects have been funded since the company's launch in 2009. Each project does this by seeking funding from the Kickstarter crowd to support their idea and hopefully see it succeed.\n",
    "\n"
   ]
  },
  {
   "cell_type": "markdown",
   "id": "da5a3bc8",
   "metadata": {},
   "source": [
    "# Hypothesis\n",
    "\n",
    "\n",
    "In this notebook, I will share my analysis of a dataset of roughly 375,000 Kickstarter projects and I would like to predict which projects are successfully funded, based on their categorical characteristics. This information could be used to see if the projects are meeting the financial goals that they need to succeed and if a project is on track to being funded or failing.\n"
   ]
  },
  {
   "cell_type": "markdown",
   "id": "1d4b9260",
   "metadata": {},
   "source": [
    "# About the Dataset \n",
    "\n",
    "Downloaded from Kaggle.com\n",
    "\n",
    "\n",
    "The original dataset contains 378,661 projects from Kickstarter website. Including the following data:\n",
    "\n",
    "\n",
    "Name - The name of the project\n",
    "\n",
    "Main category - The main Category of the project\n",
    "\n",
    "Category - The Subcategory of the main Category\n",
    "\n",
    "Country - The country of the project\n",
    "\n",
    "Launched - Date the project was launched on Kickstarter\n",
    "\n",
    "Deadline - Deadline date for the project\n",
    "\n",
    "Goal - The monetary goal for the project in (USD)\n",
    "\n",
    "Pledged - The amount pledged to the project (USD)\n",
    "\n",
    "Backers - The amount of contributors\n",
    "\n",
    "State - The state of the project i.e. Successful, Failed\n",
    "\n",
    "Consists of 15 variables with 378661 observations\n",
    "\n",
    "\n",
    "\n",
    "\n"
   ]
  },
  {
   "cell_type": "code",
   "execution_count": 2,
   "id": "b1b65349",
   "metadata": {},
   "outputs": [],
   "source": [
    "import pandas as pd\n",
    "import numpy as np\n",
    "import matplotlib.pyplot as plt\n",
    "import seaborn as sns\n",
    "\n",
    "from sklearn.ensemble import RandomForestClassifier\n",
    "from sklearn.datasets import make_classification\n",
    "from scipy import stats, special\n",
    "from sklearn import model_selection, metrics, linear_model, datasets, feature_selection\n",
    "from seaborn import pairplot, heatmap"
   ]
  },
  {
   "cell_type": "code",
   "execution_count": 5,
   "id": "5100e213",
   "metadata": {
    "scrolled": true
   },
   "outputs": [
    {
     "data": {
      "text/html": [
       "<div>\n",
       "<style scoped>\n",
       "    .dataframe tbody tr th:only-of-type {\n",
       "        vertical-align: middle;\n",
       "    }\n",
       "\n",
       "    .dataframe tbody tr th {\n",
       "        vertical-align: top;\n",
       "    }\n",
       "\n",
       "    .dataframe thead th {\n",
       "        text-align: right;\n",
       "    }\n",
       "</style>\n",
       "<table border=\"1\" class=\"dataframe\">\n",
       "  <thead>\n",
       "    <tr style=\"text-align: right;\">\n",
       "      <th></th>\n",
       "      <th>ID</th>\n",
       "      <th>name</th>\n",
       "      <th>category</th>\n",
       "      <th>main_category</th>\n",
       "      <th>currency</th>\n",
       "      <th>deadline</th>\n",
       "      <th>goal</th>\n",
       "      <th>launched</th>\n",
       "      <th>pledged</th>\n",
       "      <th>state</th>\n",
       "      <th>backers</th>\n",
       "      <th>country</th>\n",
       "      <th>usd pledged</th>\n",
       "      <th>usd_pledged_real</th>\n",
       "      <th>usd_goal_real</th>\n",
       "    </tr>\n",
       "  </thead>\n",
       "  <tbody>\n",
       "    <tr>\n",
       "      <th>0</th>\n",
       "      <td>1000002330</td>\n",
       "      <td>The Songs of Adelaide &amp; Abullah</td>\n",
       "      <td>Poetry</td>\n",
       "      <td>Publishing</td>\n",
       "      <td>GBP</td>\n",
       "      <td>2015-10-09</td>\n",
       "      <td>1000.0</td>\n",
       "      <td>2015-08-11 12:12:28</td>\n",
       "      <td>0.0</td>\n",
       "      <td>failed</td>\n",
       "      <td>0</td>\n",
       "      <td>GB</td>\n",
       "      <td>0.0</td>\n",
       "      <td>0.0</td>\n",
       "      <td>1533.95</td>\n",
       "    </tr>\n",
       "    <tr>\n",
       "      <th>1</th>\n",
       "      <td>1000003930</td>\n",
       "      <td>Greeting From Earth: ZGAC Arts Capsule For ET</td>\n",
       "      <td>Narrative Film</td>\n",
       "      <td>Film &amp; Video</td>\n",
       "      <td>USD</td>\n",
       "      <td>2017-11-01</td>\n",
       "      <td>30000.0</td>\n",
       "      <td>2017-09-02 04:43:57</td>\n",
       "      <td>2421.0</td>\n",
       "      <td>failed</td>\n",
       "      <td>15</td>\n",
       "      <td>US</td>\n",
       "      <td>100.0</td>\n",
       "      <td>2421.0</td>\n",
       "      <td>30000.00</td>\n",
       "    </tr>\n",
       "    <tr>\n",
       "      <th>2</th>\n",
       "      <td>1000004038</td>\n",
       "      <td>Where is Hank?</td>\n",
       "      <td>Narrative Film</td>\n",
       "      <td>Film &amp; Video</td>\n",
       "      <td>USD</td>\n",
       "      <td>2013-02-26</td>\n",
       "      <td>45000.0</td>\n",
       "      <td>2013-01-12 00:20:50</td>\n",
       "      <td>220.0</td>\n",
       "      <td>failed</td>\n",
       "      <td>3</td>\n",
       "      <td>US</td>\n",
       "      <td>220.0</td>\n",
       "      <td>220.0</td>\n",
       "      <td>45000.00</td>\n",
       "    </tr>\n",
       "    <tr>\n",
       "      <th>3</th>\n",
       "      <td>1000007540</td>\n",
       "      <td>ToshiCapital Rekordz Needs Help to Complete Album</td>\n",
       "      <td>Music</td>\n",
       "      <td>Music</td>\n",
       "      <td>USD</td>\n",
       "      <td>2012-04-16</td>\n",
       "      <td>5000.0</td>\n",
       "      <td>2012-03-17 03:24:11</td>\n",
       "      <td>1.0</td>\n",
       "      <td>failed</td>\n",
       "      <td>1</td>\n",
       "      <td>US</td>\n",
       "      <td>1.0</td>\n",
       "      <td>1.0</td>\n",
       "      <td>5000.00</td>\n",
       "    </tr>\n",
       "    <tr>\n",
       "      <th>4</th>\n",
       "      <td>1000011046</td>\n",
       "      <td>Community Film Project: The Art of Neighborhoo...</td>\n",
       "      <td>Film &amp; Video</td>\n",
       "      <td>Film &amp; Video</td>\n",
       "      <td>USD</td>\n",
       "      <td>2015-08-29</td>\n",
       "      <td>19500.0</td>\n",
       "      <td>2015-07-04 08:35:03</td>\n",
       "      <td>1283.0</td>\n",
       "      <td>canceled</td>\n",
       "      <td>14</td>\n",
       "      <td>US</td>\n",
       "      <td>1283.0</td>\n",
       "      <td>1283.0</td>\n",
       "      <td>19500.00</td>\n",
       "    </tr>\n",
       "  </tbody>\n",
       "</table>\n",
       "</div>"
      ],
      "text/plain": [
       "           ID                                               name  \\\n",
       "0  1000002330                    The Songs of Adelaide & Abullah   \n",
       "1  1000003930      Greeting From Earth: ZGAC Arts Capsule For ET   \n",
       "2  1000004038                                     Where is Hank?   \n",
       "3  1000007540  ToshiCapital Rekordz Needs Help to Complete Album   \n",
       "4  1000011046  Community Film Project: The Art of Neighborhoo...   \n",
       "\n",
       "         category main_category currency    deadline     goal  \\\n",
       "0          Poetry    Publishing      GBP  2015-10-09   1000.0   \n",
       "1  Narrative Film  Film & Video      USD  2017-11-01  30000.0   \n",
       "2  Narrative Film  Film & Video      USD  2013-02-26  45000.0   \n",
       "3           Music         Music      USD  2012-04-16   5000.0   \n",
       "4    Film & Video  Film & Video      USD  2015-08-29  19500.0   \n",
       "\n",
       "              launched  pledged     state  backers country  usd pledged  \\\n",
       "0  2015-08-11 12:12:28      0.0    failed        0      GB          0.0   \n",
       "1  2017-09-02 04:43:57   2421.0    failed       15      US        100.0   \n",
       "2  2013-01-12 00:20:50    220.0    failed        3      US        220.0   \n",
       "3  2012-03-17 03:24:11      1.0    failed        1      US          1.0   \n",
       "4  2015-07-04 08:35:03   1283.0  canceled       14      US       1283.0   \n",
       "\n",
       "   usd_pledged_real  usd_goal_real  \n",
       "0               0.0        1533.95  \n",
       "1            2421.0       30000.00  \n",
       "2             220.0       45000.00  \n",
       "3               1.0        5000.00  \n",
       "4            1283.0       19500.00  "
      ]
     },
     "execution_count": 5,
     "metadata": {},
     "output_type": "execute_result"
    }
   ],
   "source": [
    "df = pd.read_csv('ks-projects-201801.csv')\n",
    "df.head(5)\n"
   ]
  },
  {
   "cell_type": "markdown",
   "id": "53ee0152",
   "metadata": {},
   "source": [
    "# Data Preparation:\n",
    "\n",
    "\n",
    "## Step 1: Variables\n",
    "Identifiying the highly correlated and uniformative variables and dropping them.\n",
    "\n",
    "### Time-series variables\n",
    " - `launched` , `deadline`\n",
    "\n",
    "### Categorical variables\n",
    "  \n",
    " - `uninformative` : `name`, `category`(too many unique values), `currancy` (related to country)\n",
    "  \n",
    "### Numeric variables\n",
    " - `uninformative` : `ID` \n",
    " - `correlated`: \n",
    "  * `goal` , `usd_goal_real` , `usd_goal_real` (keep `usd_goal_real`)\n",
    "  * `pledged` , `usd pledged` , `usd_pledged_real` (keep `usd_pledged_real`)\n",
    "\n",
    " $ The `real` value is the currency convertion based on some financial institution.\n",
    " \n",
    "\n",
    "  \n",
    "  \n",
    "             \n",
    "\n"
   ]
  },
  {
   "cell_type": "code",
   "execution_count": 6,
   "id": "19fa60b1",
   "metadata": {},
   "outputs": [],
   "source": [
    "# datetime conversions\n",
    "df['deadline'] = pd.to_datetime(df['deadline'])\n",
    "df['launched'] = pd.to_datetime(df['launched'])"
   ]
  },
  {
   "cell_type": "code",
   "execution_count": 7,
   "id": "05e65cca",
   "metadata": {},
   "outputs": [
    {
     "data": {
      "text/plain": [
       "name             375764\n",
       "category            159\n",
       "main_category        15\n",
       "currency             14\n",
       "state                 6\n",
       "country              23\n",
       "dtype: int64"
      ]
     },
     "execution_count": 7,
     "metadata": {},
     "output_type": "execute_result"
    }
   ],
   "source": [
    "df.select_dtypes(include = 'object').nunique()"
   ]
  },
  {
   "cell_type": "markdown",
   "id": "08cb8fc6",
   "metadata": {},
   "source": [
    "### Target variable\n",
    "\n",
    "In order to work easier with the state of the project as the `target` variable of this project, the catagerical values of the `state` column is changed to numerical values.\n",
    "\n"
   ]
  },
  {
   "cell_type": "code",
   "execution_count": 8,
   "id": "2da26e67",
   "metadata": {
    "scrolled": true
   },
   "outputs": [
    {
     "data": {
      "text/plain": [
       "<AxesSubplot:>"
      ]
     },
     "execution_count": 8,
     "metadata": {},
     "output_type": "execute_result"
    },
    {
     "data": {
      "image/png": "[encoded data removed]",
      "text/plain": [
       "<Figure size 432x288 with 1 Axes>"
      ]
     },
     "metadata": {
      "needs_background": "light"
     },
     "output_type": "display_data"
    }
   ],
   "source": [
    "df['state'].value_counts().plot(kind='bar')"
   ]
  },
  {
   "cell_type": "code",
   "execution_count": 9,
   "id": "6b057b1f",
   "metadata": {},
   "outputs": [],
   "source": [
    "# Keep the projects which are succeccful or failed\n",
    "\n",
    "df1= df.loc[(df['state'] == 'failed') | (df['state'] == 'successful')]\n",
    "df1.reset_index(inplace=True, drop=True) \n"
   ]
  },
  {
   "cell_type": "code",
   "execution_count": 10,
   "id": "e59e2750",
   "metadata": {},
   "outputs": [
    {
     "data": {
      "image/png": "[encoded data removed]",
      "text/plain": [
       "<Figure size 432x288 with 2 Axes>"
      ]
     },
     "metadata": {
      "needs_background": "light"
     },
     "output_type": "display_data"
    }
   ],
   "source": [
    "heatmap(df.corr(),annot = True);"
   ]
  },
  {
   "cell_type": "code",
   "execution_count": 11,
   "id": "91f76935",
   "metadata": {},
   "outputs": [],
   "source": [
    "# Drop highly correlated and uniformative variables\n",
    "df1=df1.drop(columns = ['name','category','currency','goal','pledged','usd pledged','ID'])"
   ]
  },
  {
   "cell_type": "markdown",
   "id": "bd834af5",
   "metadata": {},
   "source": [
    "\n",
    "### Step 2: Values\n",
    "\n",
    "- `NaN` values\n",
    "- `Duplicated` data\n",
    "\n"
   ]
  },
  {
   "cell_type": "code",
   "execution_count": 12,
   "id": "e29d334b",
   "metadata": {},
   "outputs": [
    {
     "data": {
      "text/plain": [
       "main_category       0\n",
       "deadline            0\n",
       "launched            0\n",
       "state               0\n",
       "backers             0\n",
       "country             0\n",
       "usd_pledged_real    0\n",
       "usd_goal_real       0\n",
       "dtype: int64"
      ]
     },
     "execution_count": 12,
     "metadata": {},
     "output_type": "execute_result"
    }
   ],
   "source": [
    "df1.isnull().sum()"
   ]
  },
  {
   "cell_type": "code",
   "execution_count": 13,
   "id": "65ca0721",
   "metadata": {},
   "outputs": [
    {
     "data": {
      "text/plain": [
       "0"
      ]
     },
     "execution_count": 13,
     "metadata": {},
     "output_type": "execute_result"
    }
   ],
   "source": [
    "df1.duplicated().sum()"
   ]
  },
  {
   "cell_type": "code",
   "execution_count": 14,
   "id": "4e7a6231",
   "metadata": {
    "scrolled": true
   },
   "outputs": [
    {
     "data": {
      "text/html": [
       "<div>\n",
       "<style scoped>\n",
       "    .dataframe tbody tr th:only-of-type {\n",
       "        vertical-align: middle;\n",
       "    }\n",
       "\n",
       "    .dataframe tbody tr th {\n",
       "        vertical-align: top;\n",
       "    }\n",
       "\n",
       "    .dataframe thead th {\n",
       "        text-align: right;\n",
       "    }\n",
       "</style>\n",
       "<table border=\"1\" class=\"dataframe\">\n",
       "  <thead>\n",
       "    <tr style=\"text-align: right;\">\n",
       "      <th></th>\n",
       "      <th>backers</th>\n",
       "      <th>usd_pledged_real</th>\n",
       "      <th>usd_goal_real</th>\n",
       "    </tr>\n",
       "  </thead>\n",
       "  <tbody>\n",
       "    <tr>\n",
       "      <th>count</th>\n",
       "      <td>331675.000000</td>\n",
       "      <td>3.316750e+05</td>\n",
       "      <td>3.316750e+05</td>\n",
       "    </tr>\n",
       "    <tr>\n",
       "      <th>mean</th>\n",
       "      <td>116.381581</td>\n",
       "      <td>9.943461e+03</td>\n",
       "      <td>4.151000e+04</td>\n",
       "    </tr>\n",
       "    <tr>\n",
       "      <th>std</th>\n",
       "      <td>965.427268</td>\n",
       "      <td>9.673293e+04</td>\n",
       "      <td>1.108930e+06</td>\n",
       "    </tr>\n",
       "    <tr>\n",
       "      <th>min</th>\n",
       "      <td>0.000000</td>\n",
       "      <td>0.000000e+00</td>\n",
       "      <td>1.000000e-02</td>\n",
       "    </tr>\n",
       "    <tr>\n",
       "      <th>25%</th>\n",
       "      <td>2.000000</td>\n",
       "      <td>5.000000e+01</td>\n",
       "      <td>2.000000e+03</td>\n",
       "    </tr>\n",
       "    <tr>\n",
       "      <th>50%</th>\n",
       "      <td>15.000000</td>\n",
       "      <td>7.880000e+02</td>\n",
       "      <td>5.000000e+03</td>\n",
       "    </tr>\n",
       "    <tr>\n",
       "      <th>75%</th>\n",
       "      <td>63.000000</td>\n",
       "      <td>4.608000e+03</td>\n",
       "      <td>1.500000e+04</td>\n",
       "    </tr>\n",
       "    <tr>\n",
       "      <th>max</th>\n",
       "      <td>219382.000000</td>\n",
       "      <td>2.033899e+07</td>\n",
       "      <td>1.663614e+08</td>\n",
       "    </tr>\n",
       "  </tbody>\n",
       "</table>\n",
       "</div>"
      ],
      "text/plain": [
       "             backers  usd_pledged_real  usd_goal_real\n",
       "count  331675.000000      3.316750e+05   3.316750e+05\n",
       "mean      116.381581      9.943461e+03   4.151000e+04\n",
       "std       965.427268      9.673293e+04   1.108930e+06\n",
       "min         0.000000      0.000000e+00   1.000000e-02\n",
       "25%         2.000000      5.000000e+01   2.000000e+03\n",
       "50%        15.000000      7.880000e+02   5.000000e+03\n",
       "75%        63.000000      4.608000e+03   1.500000e+04\n",
       "max    219382.000000      2.033899e+07   1.663614e+08"
      ]
     },
     "execution_count": 14,
     "metadata": {},
     "output_type": "execute_result"
    }
   ],
   "source": [
    "df1.describe()"
   ]
  },
  {
   "cell_type": "markdown",
   "id": "95ec0286",
   "metadata": {},
   "source": [
    "### numeric variables \n",
    "We can see that the mean number of people supporting each project (backers) was 116 with a minimum value of 0 supporters for failed projects and a maximum of 219382, the standard deviation was pretty big  965 supporters.\n",
    "\n",
    "The other interesting variable is the pledged amount in USD with a mean value of 9943 USD and a standard deviation of 96732 USD, which is probably caused by the very high maximum value.\n",
    "\n",
    "A similar pattern in data is for the goals of Kickstarter projects, the mean value is around 41510 USD with a very high maximum value and big standard deviation.\n",
    "\n",
    "\n",
    "##### The focus of this project is on categorical variables, so more analysis is skipped.\n"
   ]
  },
  {
   "cell_type": "markdown",
   "id": "767bef18",
   "metadata": {},
   "source": [
    "\n",
    "\n",
    "# Primary questions\n",
    "\n",
    "1. What country has the highest success rate of projects?\n",
    "2. Which category has the highest success percentage? \n",
    "\n"
   ]
  },
  {
   "cell_type": "code",
   "execution_count": 15,
   "id": "6ca1b02b",
   "metadata": {},
   "outputs": [
    {
     "data": {
      "text/html": [
       "<div>\n",
       "<style scoped>\n",
       "    .dataframe tbody tr th:only-of-type {\n",
       "        vertical-align: middle;\n",
       "    }\n",
       "\n",
       "    .dataframe tbody tr th {\n",
       "        vertical-align: top;\n",
       "    }\n",
       "\n",
       "    .dataframe thead th {\n",
       "        text-align: right;\n",
       "    }\n",
       "</style>\n",
       "<table border=\"1\" class=\"dataframe\">\n",
       "  <thead>\n",
       "    <tr style=\"text-align: right;\">\n",
       "      <th></th>\n",
       "      <th>country</th>\n",
       "      <th>All_state</th>\n",
       "      <th>success_state</th>\n",
       "      <th>rate</th>\n",
       "    </tr>\n",
       "  </thead>\n",
       "  <tbody>\n",
       "    <tr>\n",
       "      <th>0</th>\n",
       "      <td>US</td>\n",
       "      <td>292627</td>\n",
       "      <td>109299</td>\n",
       "      <td>37.4</td>\n",
       "    </tr>\n",
       "    <tr>\n",
       "      <th>1</th>\n",
       "      <td>GB</td>\n",
       "      <td>33672</td>\n",
       "      <td>12067</td>\n",
       "      <td>35.8</td>\n",
       "    </tr>\n",
       "    <tr>\n",
       "      <th>2</th>\n",
       "      <td>HK</td>\n",
       "      <td>618</td>\n",
       "      <td>216</td>\n",
       "      <td>35.0</td>\n",
       "    </tr>\n",
       "    <tr>\n",
       "      <th>3</th>\n",
       "      <td>DK</td>\n",
       "      <td>1113</td>\n",
       "      <td>360</td>\n",
       "      <td>32.3</td>\n",
       "    </tr>\n",
       "    <tr>\n",
       "      <th>4</th>\n",
       "      <td>SG</td>\n",
       "      <td>555</td>\n",
       "      <td>178</td>\n",
       "      <td>32.1</td>\n",
       "    </tr>\n",
       "    <tr>\n",
       "      <th>5</th>\n",
       "      <td>NZ</td>\n",
       "      <td>1447</td>\n",
       "      <td>448</td>\n",
       "      <td>31.0</td>\n",
       "    </tr>\n",
       "    <tr>\n",
       "      <th>6</th>\n",
       "      <td>FR</td>\n",
       "      <td>2939</td>\n",
       "      <td>908</td>\n",
       "      <td>30.9</td>\n",
       "    </tr>\n",
       "    <tr>\n",
       "      <th>7</th>\n",
       "      <td>LU</td>\n",
       "      <td>62</td>\n",
       "      <td>19</td>\n",
       "      <td>30.6</td>\n",
       "    </tr>\n",
       "    <tr>\n",
       "      <th>8</th>\n",
       "      <td>SE</td>\n",
       "      <td>1757</td>\n",
       "      <td>509</td>\n",
       "      <td>29.0</td>\n",
       "    </tr>\n",
       "    <tr>\n",
       "      <th>9</th>\n",
       "      <td>CA</td>\n",
       "      <td>14756</td>\n",
       "      <td>4134</td>\n",
       "      <td>28.0</td>\n",
       "    </tr>\n",
       "  </tbody>\n",
       "</table>\n",
       "</div>"
      ],
      "text/plain": [
       "  country  All_state  success_state  rate\n",
       "0      US     292627         109299  37.4\n",
       "1      GB      33672          12067  35.8\n",
       "2      HK        618            216  35.0\n",
       "3      DK       1113            360  32.3\n",
       "4      SG        555            178  32.1\n",
       "5      NZ       1447            448  31.0\n",
       "6      FR       2939            908  30.9\n",
       "7      LU         62             19  30.6\n",
       "8      SE       1757            509  29.0\n",
       "9      CA      14756           4134  28.0"
      ]
     },
     "execution_count": 15,
     "metadata": {},
     "output_type": "execute_result"
    }
   ],
   "source": [
    "country= pd.DataFrame()\n",
    "country['All_state'] = pd.DataFrame(df.groupby(df['country'])['state'].agg(len))\n",
    "country['success_state'] =  pd.DataFrame(df.groupby(df[df['state']=='successful']['country'])['state'].agg(len))\n",
    "country['rate'] = (country['success_state'] / country['All_state'] * 100).round(1)\n",
    "country = country.sort_values('rate',ascending=False).reset_index()\n",
    "country.head(10)"
   ]
  },
  {
   "cell_type": "code",
   "execution_count": 16,
   "id": "3b81000d",
   "metadata": {
    "scrolled": true
   },
   "outputs": [
    {
     "data": {
      "image/png": "[encoded data removed]",
      "text/plain": [
       "<Figure size 720x360 with 1 Axes>"
      ]
     },
     "metadata": {
      "needs_background": "light"
     },
     "output_type": "display_data"
    }
   ],
   "source": [
    "plt.figure(figsize=(10,5))\n",
    "plt.bar(country['country'], country['rate'])\n",
    "plt.xlabel('country')\n",
    "plt.ylabel('rate')\n",
    "plt.show()"
   ]
  },
  {
   "cell_type": "code",
   "execution_count": 17,
   "id": "bb7129cf",
   "metadata": {},
   "outputs": [
    {
     "data": {
      "text/html": [
       "<div>\n",
       "<style scoped>\n",
       "    .dataframe tbody tr th:only-of-type {\n",
       "        vertical-align: middle;\n",
       "    }\n",
       "\n",
       "    .dataframe tbody tr th {\n",
       "        vertical-align: top;\n",
       "    }\n",
       "\n",
       "    .dataframe thead th {\n",
       "        text-align: right;\n",
       "    }\n",
       "</style>\n",
       "<table border=\"1\" class=\"dataframe\">\n",
       "  <thead>\n",
       "    <tr style=\"text-align: right;\">\n",
       "      <th></th>\n",
       "      <th>main_category</th>\n",
       "      <th>All_state</th>\n",
       "      <th>success_state</th>\n",
       "      <th>rate</th>\n",
       "    </tr>\n",
       "  </thead>\n",
       "  <tbody>\n",
       "    <tr>\n",
       "      <th>0</th>\n",
       "      <td>Dance</td>\n",
       "      <td>3768</td>\n",
       "      <td>2338</td>\n",
       "      <td>62.0</td>\n",
       "    </tr>\n",
       "    <tr>\n",
       "      <th>1</th>\n",
       "      <td>Theater</td>\n",
       "      <td>10913</td>\n",
       "      <td>6534</td>\n",
       "      <td>59.9</td>\n",
       "    </tr>\n",
       "    <tr>\n",
       "      <th>2</th>\n",
       "      <td>Comics</td>\n",
       "      <td>10819</td>\n",
       "      <td>5842</td>\n",
       "      <td>54.0</td>\n",
       "    </tr>\n",
       "    <tr>\n",
       "      <th>3</th>\n",
       "      <td>Music</td>\n",
       "      <td>51918</td>\n",
       "      <td>24197</td>\n",
       "      <td>46.6</td>\n",
       "    </tr>\n",
       "    <tr>\n",
       "      <th>4</th>\n",
       "      <td>Art</td>\n",
       "      <td>28153</td>\n",
       "      <td>11510</td>\n",
       "      <td>40.9</td>\n",
       "    </tr>\n",
       "    <tr>\n",
       "      <th>5</th>\n",
       "      <td>Film &amp; Video</td>\n",
       "      <td>63585</td>\n",
       "      <td>23623</td>\n",
       "      <td>37.2</td>\n",
       "    </tr>\n",
       "    <tr>\n",
       "      <th>6</th>\n",
       "      <td>Games</td>\n",
       "      <td>35231</td>\n",
       "      <td>12518</td>\n",
       "      <td>35.5</td>\n",
       "    </tr>\n",
       "    <tr>\n",
       "      <th>7</th>\n",
       "      <td>Design</td>\n",
       "      <td>30070</td>\n",
       "      <td>10550</td>\n",
       "      <td>35.1</td>\n",
       "    </tr>\n",
       "    <tr>\n",
       "      <th>8</th>\n",
       "      <td>Publishing</td>\n",
       "      <td>39874</td>\n",
       "      <td>12300</td>\n",
       "      <td>30.8</td>\n",
       "    </tr>\n",
       "    <tr>\n",
       "      <th>9</th>\n",
       "      <td>Photography</td>\n",
       "      <td>10779</td>\n",
       "      <td>3305</td>\n",
       "      <td>30.7</td>\n",
       "    </tr>\n",
       "  </tbody>\n",
       "</table>\n",
       "</div>"
      ],
      "text/plain": [
       "  main_category  All_state  success_state  rate\n",
       "0         Dance       3768           2338  62.0\n",
       "1       Theater      10913           6534  59.9\n",
       "2        Comics      10819           5842  54.0\n",
       "3         Music      51918          24197  46.6\n",
       "4           Art      28153          11510  40.9\n",
       "5  Film & Video      63585          23623  37.2\n",
       "6         Games      35231          12518  35.5\n",
       "7        Design      30070          10550  35.1\n",
       "8    Publishing      39874          12300  30.8\n",
       "9   Photography      10779           3305  30.7"
      ]
     },
     "execution_count": 17,
     "metadata": {},
     "output_type": "execute_result"
    }
   ],
   "source": [
    "category= pd.DataFrame()\n",
    "category['All_state'] = pd.DataFrame(df.groupby(df['main_category'])['state'].agg(len))\n",
    "category['success_state'] =  pd.DataFrame(df.groupby(df[df['state']=='successful']['main_category'])['state'].agg(len))\n",
    "category['rate'] = (category['success_state'] / category['All_state'] * 100).round(1)\n",
    "category = category.sort_values('rate',ascending=False).reset_index()\n",
    "category.head(10)"
   ]
  },
  {
   "cell_type": "code",
   "execution_count": 18,
   "id": "2c819876",
   "metadata": {
    "scrolled": true
   },
   "outputs": [
    {
     "data": {
      "image/png": "[encoded data removed]",
      "text/plain": [
       "<Figure size 432x288 with 1 Axes>"
      ]
     },
     "metadata": {},
     "output_type": "display_data"
    }
   ],
   "source": [
    "plt.figure()\n",
    "#plt.bar(category['main_category'][:10],category['rate'][:10])\n",
    "plt.pie(category['rate'],labels=category['main_category'])\n",
    "#plt.xlabel('category')\n",
    "#plt.ylabel('rate')\n",
    "plt.show()"
   ]
  },
  {
   "cell_type": "markdown",
   "id": "569b4b8b",
   "metadata": {},
   "source": [
    "# Classification Modeling\n",
    "\n",
    "### Preparation\n",
    "\n",
    "- Encoding: One-hot encoding of categorical variables (`country` and `main category`) \n",
    "- Converting `state` to binary (`successful` : 1 , `failed` : 0)\n",
    "- Split data to train and test"
   ]
  },
  {
   "cell_type": "code",
   "execution_count": 19,
   "id": "b2b0e276",
   "metadata": {},
   "outputs": [],
   "source": [
    "# encoding categorical variables\n",
    "\n",
    "from sklearn.preprocessing import OneHotEncoder\n",
    "\n",
    "## remove 'deadline','launched' column for now, as we won't use them for classification analysis \n",
    "df2 = df1.drop(columns=['deadline','launched','state'])\n",
    "\n",
    "\n",
    "## list of categorical columns\n",
    "cat_cols = df2.select_dtypes(include='object').columns\n",
    "\n",
    "## df of categorical variables only\n",
    "df2_cat = df2[cat_cols]\n",
    "\n",
    "## one-hot encoding\n",
    "enc = OneHotEncoder(handle_unknown='ignore', sparse=False)\n",
    "enc.fit(df2_cat)\n",
    "df2_enc = pd.DataFrame(enc.transform(df2_cat))\n",
    "\n",
    "## add back column names\n",
    "df2_enc.columns = enc.get_feature_names_out(cat_cols)\n",
    "\n",
    "## join with numerical columns\n",
    "df_final = pd.concat([df1.state,df2.drop(columns=cat_cols,axis=1),df2_enc],axis = 1)\n"
   ]
  },
  {
   "cell_type": "code",
   "execution_count": 20,
   "id": "e02827f5",
   "metadata": {},
   "outputs": [],
   "source": [
    "# state to binary (0: failed, 1: successful)\n",
    "\n",
    "df_final['state'] = df_final['state'].replace({'failed':0, 'successful':1})\n",
    "df_final['state']=df_final['state'].astype('int')\n"
   ]
  },
  {
   "cell_type": "code",
   "execution_count": 21,
   "id": "5757be16",
   "metadata": {},
   "outputs": [
    {
     "name": "stdout",
     "output_type": "stream",
     "text": [
      "Initial size:  (378661, 15)\n",
      "Final data size:  (331675, 42)\n"
     ]
    }
   ],
   "source": [
    "## shape \n",
    "print('Initial size: ', df.shape)\n",
    "print('Final data size: ' ,df_final.shape)"
   ]
  },
  {
   "cell_type": "code",
   "execution_count": 22,
   "id": "4e3e7453",
   "metadata": {},
   "outputs": [
    {
     "data": {
      "text/html": [
       "<div>\n",
       "<style scoped>\n",
       "    .dataframe tbody tr th:only-of-type {\n",
       "        vertical-align: middle;\n",
       "    }\n",
       "\n",
       "    .dataframe tbody tr th {\n",
       "        vertical-align: top;\n",
       "    }\n",
       "\n",
       "    .dataframe thead th {\n",
       "        text-align: right;\n",
       "    }\n",
       "</style>\n",
       "<table border=\"1\" class=\"dataframe\">\n",
       "  <thead>\n",
       "    <tr style=\"text-align: right;\">\n",
       "      <th></th>\n",
       "      <th>state</th>\n",
       "      <th>backers</th>\n",
       "      <th>usd_pledged_real</th>\n",
       "      <th>usd_goal_real</th>\n",
       "      <th>main_category_Art</th>\n",
       "      <th>main_category_Comics</th>\n",
       "      <th>main_category_Crafts</th>\n",
       "      <th>main_category_Dance</th>\n",
       "      <th>main_category_Design</th>\n",
       "      <th>main_category_Fashion</th>\n",
       "      <th>...</th>\n",
       "      <th>country_JP</th>\n",
       "      <th>country_LU</th>\n",
       "      <th>country_MX</th>\n",
       "      <th>country_N,0\"</th>\n",
       "      <th>country_NL</th>\n",
       "      <th>country_NO</th>\n",
       "      <th>country_NZ</th>\n",
       "      <th>country_SE</th>\n",
       "      <th>country_SG</th>\n",
       "      <th>country_US</th>\n",
       "    </tr>\n",
       "  </thead>\n",
       "  <tbody>\n",
       "    <tr>\n",
       "      <th>0</th>\n",
       "      <td>0</td>\n",
       "      <td>0</td>\n",
       "      <td>0.0</td>\n",
       "      <td>1533.95</td>\n",
       "      <td>0.0</td>\n",
       "      <td>0.0</td>\n",
       "      <td>0.0</td>\n",
       "      <td>0.0</td>\n",
       "      <td>0.0</td>\n",
       "      <td>0.0</td>\n",
       "      <td>...</td>\n",
       "      <td>0.0</td>\n",
       "      <td>0.0</td>\n",
       "      <td>0.0</td>\n",
       "      <td>0.0</td>\n",
       "      <td>0.0</td>\n",
       "      <td>0.0</td>\n",
       "      <td>0.0</td>\n",
       "      <td>0.0</td>\n",
       "      <td>0.0</td>\n",
       "      <td>0.0</td>\n",
       "    </tr>\n",
       "    <tr>\n",
       "      <th>1</th>\n",
       "      <td>0</td>\n",
       "      <td>15</td>\n",
       "      <td>2421.0</td>\n",
       "      <td>30000.00</td>\n",
       "      <td>0.0</td>\n",
       "      <td>0.0</td>\n",
       "      <td>0.0</td>\n",
       "      <td>0.0</td>\n",
       "      <td>0.0</td>\n",
       "      <td>0.0</td>\n",
       "      <td>...</td>\n",
       "      <td>0.0</td>\n",
       "      <td>0.0</td>\n",
       "      <td>0.0</td>\n",
       "      <td>0.0</td>\n",
       "      <td>0.0</td>\n",
       "      <td>0.0</td>\n",
       "      <td>0.0</td>\n",
       "      <td>0.0</td>\n",
       "      <td>0.0</td>\n",
       "      <td>1.0</td>\n",
       "    </tr>\n",
       "    <tr>\n",
       "      <th>2</th>\n",
       "      <td>0</td>\n",
       "      <td>3</td>\n",
       "      <td>220.0</td>\n",
       "      <td>45000.00</td>\n",
       "      <td>0.0</td>\n",
       "      <td>0.0</td>\n",
       "      <td>0.0</td>\n",
       "      <td>0.0</td>\n",
       "      <td>0.0</td>\n",
       "      <td>0.0</td>\n",
       "      <td>...</td>\n",
       "      <td>0.0</td>\n",
       "      <td>0.0</td>\n",
       "      <td>0.0</td>\n",
       "      <td>0.0</td>\n",
       "      <td>0.0</td>\n",
       "      <td>0.0</td>\n",
       "      <td>0.0</td>\n",
       "      <td>0.0</td>\n",
       "      <td>0.0</td>\n",
       "      <td>1.0</td>\n",
       "    </tr>\n",
       "    <tr>\n",
       "      <th>3</th>\n",
       "      <td>0</td>\n",
       "      <td>1</td>\n",
       "      <td>1.0</td>\n",
       "      <td>5000.00</td>\n",
       "      <td>0.0</td>\n",
       "      <td>0.0</td>\n",
       "      <td>0.0</td>\n",
       "      <td>0.0</td>\n",
       "      <td>0.0</td>\n",
       "      <td>0.0</td>\n",
       "      <td>...</td>\n",
       "      <td>0.0</td>\n",
       "      <td>0.0</td>\n",
       "      <td>0.0</td>\n",
       "      <td>0.0</td>\n",
       "      <td>0.0</td>\n",
       "      <td>0.0</td>\n",
       "      <td>0.0</td>\n",
       "      <td>0.0</td>\n",
       "      <td>0.0</td>\n",
       "      <td>1.0</td>\n",
       "    </tr>\n",
       "    <tr>\n",
       "      <th>4</th>\n",
       "      <td>1</td>\n",
       "      <td>224</td>\n",
       "      <td>52375.0</td>\n",
       "      <td>50000.00</td>\n",
       "      <td>0.0</td>\n",
       "      <td>0.0</td>\n",
       "      <td>0.0</td>\n",
       "      <td>0.0</td>\n",
       "      <td>0.0</td>\n",
       "      <td>0.0</td>\n",
       "      <td>...</td>\n",
       "      <td>0.0</td>\n",
       "      <td>0.0</td>\n",
       "      <td>0.0</td>\n",
       "      <td>0.0</td>\n",
       "      <td>0.0</td>\n",
       "      <td>0.0</td>\n",
       "      <td>0.0</td>\n",
       "      <td>0.0</td>\n",
       "      <td>0.0</td>\n",
       "      <td>1.0</td>\n",
       "    </tr>\n",
       "  </tbody>\n",
       "</table>\n",
       "<p>5 rows × 42 columns</p>\n",
       "</div>"
      ],
      "text/plain": [
       "   state  backers  usd_pledged_real  usd_goal_real  main_category_Art  \\\n",
       "0      0        0               0.0        1533.95                0.0   \n",
       "1      0       15            2421.0       30000.00                0.0   \n",
       "2      0        3             220.0       45000.00                0.0   \n",
       "3      0        1               1.0        5000.00                0.0   \n",
       "4      1      224           52375.0       50000.00                0.0   \n",
       "\n",
       "   main_category_Comics  main_category_Crafts  main_category_Dance  \\\n",
       "0                   0.0                   0.0                  0.0   \n",
       "1                   0.0                   0.0                  0.0   \n",
       "2                   0.0                   0.0                  0.0   \n",
       "3                   0.0                   0.0                  0.0   \n",
       "4                   0.0                   0.0                  0.0   \n",
       "\n",
       "   main_category_Design  main_category_Fashion  ...  country_JP  country_LU  \\\n",
       "0                   0.0                    0.0  ...         0.0         0.0   \n",
       "1                   0.0                    0.0  ...         0.0         0.0   \n",
       "2                   0.0                    0.0  ...         0.0         0.0   \n",
       "3                   0.0                    0.0  ...         0.0         0.0   \n",
       "4                   0.0                    0.0  ...         0.0         0.0   \n",
       "\n",
       "   country_MX  country_N,0\"  country_NL  country_NO  country_NZ  country_SE  \\\n",
       "0         0.0           0.0         0.0         0.0         0.0         0.0   \n",
       "1         0.0           0.0         0.0         0.0         0.0         0.0   \n",
       "2         0.0           0.0         0.0         0.0         0.0         0.0   \n",
       "3         0.0           0.0         0.0         0.0         0.0         0.0   \n",
       "4         0.0           0.0         0.0         0.0         0.0         0.0   \n",
       "\n",
       "   country_SG  country_US  \n",
       "0         0.0         0.0  \n",
       "1         0.0         1.0  \n",
       "2         0.0         1.0  \n",
       "3         0.0         1.0  \n",
       "4         0.0         1.0  \n",
       "\n",
       "[5 rows x 42 columns]"
      ]
     },
     "execution_count": 22,
     "metadata": {},
     "output_type": "execute_result"
    }
   ],
   "source": [
    "df_final.head()"
   ]
  },
  {
   "cell_type": "code",
   "execution_count": 23,
   "id": "d89ed369",
   "metadata": {},
   "outputs": [],
   "source": [
    "X = df_final.drop(columns = ['state','usd_pledged_real','usd_goal_real','backers']) # drop the target variables \n",
    "y = df_final['state']\n",
    "\n",
    "X_train, X_test, y_train, y_test = model_selection.train_test_split(X, y, random_state=99)"
   ]
  },
  {
   "cell_type": "code",
   "execution_count": 24,
   "id": "a874cf74",
   "metadata": {},
   "outputs": [],
   "source": [
    "results = [0,0,0]"
   ]
  },
  {
   "cell_type": "markdown",
   "id": "f3331ecb",
   "metadata": {},
   "source": [
    "### Logistic Regression"
   ]
  },
  {
   "cell_type": "code",
   "execution_count": 25,
   "id": "23788533",
   "metadata": {},
   "outputs": [],
   "source": [
    "# Define a range of depth values to try\n",
    "C_values = [0.01,0.1,1,10,100]\n",
    "\n",
    "\n",
    "train_scores_log = []\n",
    "test_scores_log = []\n",
    "\n",
    "\n",
    "# Loop through each C value\n",
    "for d in C_values:\n",
    "\n",
    "    # Create and fit a logistic regression with that C\n",
    "    df_log_model = linear_model.LogisticRegression(solver='liblinear',C=d)\n",
    "    df_log_model.fit(X_train, y_train)\n",
    "\n",
    "    \n",
    "    train_acc_log = df_log_model.score(X_train, y_train)\n",
    "    test_acc_log = df_log_model.score(X_test, y_test)\n",
    "\n",
    "    train_scores_log.append(train_acc_log)\n",
    "    test_scores_log.append(test_acc_log)\n"
   ]
  },
  {
   "cell_type": "code",
   "execution_count": 26,
   "id": "0b104777",
   "metadata": {},
   "outputs": [
    {
     "data": {
      "image/png": "[encoded data removed]",
      "text/plain": [
       "<Figure size 432x288 with 1 Axes>"
      ]
     },
     "metadata": {
      "needs_background": "light"
     },
     "output_type": "display_data"
    }
   ],
   "source": [
    "plt.figure()\n",
    "plt.plot(C_values, train_scores_log, label='train')\n",
    "plt.plot(C_values, test_scores_log, label='test', c='r')\n",
    "plt.xlabel('C value')\n",
    "plt.ylabel('Accuracy score')\n",
    "plt.legend()\n",
    "plt.title('Logistic Regression')\n",
    "plt.show()"
   ]
  },
  {
   "cell_type": "markdown",
   "id": "b81066c8",
   "metadata": {},
   "source": [
    "Based on the graph, the optimal value of `C` for `logistic regression` model is `1`."
   ]
  },
  {
   "cell_type": "code",
   "execution_count": 719,
   "id": "fbc9fdd6",
   "metadata": {},
   "outputs": [
    {
     "name": "stdout",
     "output_type": "stream",
     "text": [
      "0.6234945086751676\n",
      "0.622318165920959\n"
     ]
    }
   ],
   "source": [
    "df_log_model = linear_model.LogisticRegression(solver='liblinear',C=1.0)\n",
    "df_log_model.fit(X_train, y_train)\n",
    "\n",
    "print(df_log_model.score(X_train, y_train))\n",
    "\n",
    "df_log_model.fit(X_test, y_test)\n",
    "\n",
    "results[0] = df_log_model.score(X_test, y_test)\n",
    "\n",
    "print(results[0])"
   ]
  },
  {
   "cell_type": "markdown",
   "id": "2ec63ea5",
   "metadata": {},
   "source": [
    "### Random Forest Classifier"
   ]
  },
  {
   "cell_type": "code",
   "execution_count": 683,
   "id": "143f7d0b",
   "metadata": {},
   "outputs": [],
   "source": [
    "# Define a range of depth values to try\n",
    "depth_values = range(1, 15)\n",
    "\n",
    "# Create placeholder lists to append our scores to\n",
    "train_scores_rf = []\n",
    "test_scores_rf = []\n",
    "\n",
    "\n",
    "# Loop through each depth value\n",
    "for d in depth_values:\n",
    "\n",
    "    # Create and fit a random forest with that depth\n",
    "    clf = RandomForestClassifier(criterion = 'entropy',\n",
    "                             max_depth=d, \n",
    "                             random_state=5)\n",
    "    clf.fit(X_train, y_train)\n",
    "\n",
    "    # Calculate train and test accuracies\n",
    "    train_acc_rf = clf.score(X_train, y_train)\n",
    "    test_acc_rf = clf.score(X_test, y_test)\n",
    "\n",
    "    # Append them to our lists\n",
    "    train_scores_rf.append(train_acc_rf)\n",
    "    test_scores_rf.append(test_acc_rf)"
   ]
  },
  {
   "cell_type": "code",
   "execution_count": 684,
   "id": "0272f346",
   "metadata": {},
   "outputs": [
    {
     "data": {
      "image/png": "[encoded data removed]",
      "text/plain": [
       "<Figure size 432x288 with 1 Axes>"
      ]
     },
     "metadata": {
      "needs_background": "light"
     },
     "output_type": "display_data"
    }
   ],
   "source": [
    "plt.figure()\n",
    "plt.plot(depth_values, train_scores_rf, label='train')\n",
    "plt.plot(depth_values, test_scores_rf, label='test', c='r')\n",
    "plt.xlabel('max_depth value')\n",
    "plt.ylabel('Accuracy score')\n",
    "plt.legend()\n",
    "plt.title('Random Forest')\n",
    "plt.show()"
   ]
  },
  {
   "cell_type": "markdown",
   "id": "57756ee8",
   "metadata": {},
   "source": [
    "Based on the graph, the optimal value of `max depth`for `Random Forest` model is `7`."
   ]
  },
  {
   "cell_type": "code",
   "execution_count": 687,
   "id": "7c608a36",
   "metadata": {},
   "outputs": [
    {
     "name": "stdout",
     "output_type": "stream",
     "text": [
      "0.6237115888661982\n",
      "0.622704084709174\n"
     ]
    }
   ],
   "source": [
    "clf = RandomForestClassifier(criterion = 'entropy',\n",
    "                             max_depth=7, \n",
    "                             random_state=5)\n",
    "clf.fit(X_train, y_train)\n",
    "#clf.feature_importances_\n",
    "print(clf.score(X_train, y_train))\n",
    "\n",
    "clf.fit(X_test, y_test)\n",
    "#clf.feature_importances_\n",
    "results[1] = clf.score(X_test, y_test)\n",
    "\n",
    "print(results[1])"
   ]
  },
  {
   "cell_type": "markdown",
   "id": "ce11afb2",
   "metadata": {},
   "source": [
    "# Desicion tree modeling"
   ]
  },
  {
   "cell_type": "code",
   "execution_count": 681,
   "id": "f424a273",
   "metadata": {},
   "outputs": [],
   "source": [
    "# Define a range of depth values to try\n",
    "depth_values = range(1, 15)\n",
    "\n",
    "# Create placeholder lists to append our scores to\n",
    "train_scores_dt = []\n",
    "test_scores_dt = []\n",
    "\n",
    "\n",
    "# Loop through each depth value\n",
    "for d in depth_values:\n",
    "\n",
    "    # Create and fit a decision tree with that depth\n",
    "    dt = tree.DecisionTreeClassifier(max_depth=d)\n",
    "    dt.fit(X_train, y_train)\n",
    "\n",
    "    # Calculate train and test accuracies\n",
    "    train_acc_dt = dt.score(X_train, y_train)\n",
    "    test_acc_dt = dt.score(X_test, y_test)\n",
    "\n",
    "    # Append them to our lists\n",
    "    train_scores_dt.append(train_acc_dt)\n",
    "    test_scores_dt.append(test_acc_dt)"
   ]
  },
  {
   "cell_type": "code",
   "execution_count": 682,
   "id": "8f0b09bf",
   "metadata": {
    "scrolled": false
   },
   "outputs": [
    {
     "data": {
      "image/png": "[encoded data removed]",
      "text/plain": [
       "<Figure size 432x288 with 1 Axes>"
      ]
     },
     "metadata": {
      "needs_background": "light"
     },
     "output_type": "display_data"
    }
   ],
   "source": [
    "plt.figure()\n",
    "plt.plot(depth_values, train_scores_dt, label='train')\n",
    "plt.plot(depth_values, test_scores_dt, label='test', c='r')\n",
    "plt.xlabel('max_depth value')\n",
    "plt.ylabel('Accuracy score')\n",
    "plt.legend()\n",
    "plt.title('Decision Tree')\n",
    "plt.show()"
   ]
  },
  {
   "cell_type": "markdown",
   "id": "f58f409b",
   "metadata": {},
   "source": [
    "Based on the graph, the optimal value of `max depth`for `decision tree` model is `5`."
   ]
  },
  {
   "cell_type": "code",
   "execution_count": 679,
   "id": "24abe1a4",
   "metadata": {},
   "outputs": [
    {
     "name": "stdout",
     "output_type": "stream",
     "text": [
      "0.6235668687388445\n",
      "0.6192549355395024\n"
     ]
    }
   ],
   "source": [
    "from sklearn import tree\n",
    "\n",
    "dt = tree.DecisionTreeClassifier(max_depth=5)\n",
    "dt.fit(X_train, y_train)\n",
    "print(dt.score(X_train, y_train))\n",
    "\n",
    "dt.fit(X_test, y_test)\n",
    "results[2] = dt.score(X_test, y_test)\n",
    "print(results[2])"
   ]
  },
  {
   "cell_type": "markdown",
   "id": "0a5e8768",
   "metadata": {},
   "source": [
    "## Insights\n",
    "The Logistic regresion and Random forest work similar on this dataset but the accuracy of the Decision tree model is bit less that others. In general, we can say that all the models have similar results for the datasets. But predicting the success or failure of projects needs some additional work would be needed to in case of adding some numeric variables to improve the model."
   ]
  },
  {
   "cell_type": "code",
   "execution_count": 720,
   "id": "381c0780",
   "metadata": {
    "scrolled": true
   },
   "outputs": [
    {
     "data": {
      "text/html": [
       "<div>\n",
       "<style scoped>\n",
       "    .dataframe tbody tr th:only-of-type {\n",
       "        vertical-align: middle;\n",
       "    }\n",
       "\n",
       "    .dataframe tbody tr th {\n",
       "        vertical-align: top;\n",
       "    }\n",
       "\n",
       "    .dataframe thead th {\n",
       "        text-align: right;\n",
       "    }\n",
       "</style>\n",
       "<table border=\"1\" class=\"dataframe\">\n",
       "  <thead>\n",
       "    <tr style=\"text-align: right;\">\n",
       "      <th></th>\n",
       "      <th>Model</th>\n",
       "      <th>Accuracy score</th>\n",
       "    </tr>\n",
       "  </thead>\n",
       "  <tbody>\n",
       "    <tr>\n",
       "      <th>0</th>\n",
       "      <td>Logistic Regresion</td>\n",
       "      <td>0.622318</td>\n",
       "    </tr>\n",
       "    <tr>\n",
       "      <th>1</th>\n",
       "      <td>Random Forest</td>\n",
       "      <td>0.622704</td>\n",
       "    </tr>\n",
       "    <tr>\n",
       "      <th>2</th>\n",
       "      <td>Decision Tree</td>\n",
       "      <td>0.619255</td>\n",
       "    </tr>\n",
       "  </tbody>\n",
       "</table>\n",
       "</div>"
      ],
      "text/plain": [
       "                Model   Accuracy score\n",
       "0  Logistic Regresion         0.622318\n",
       "1       Random Forest         0.622704\n",
       "2       Decision Tree         0.619255"
      ]
     },
     "execution_count": 720,
     "metadata": {},
     "output_type": "execute_result"
    }
   ],
   "source": [
    "my_data = pd.DataFrame({'Model': ['Logistic Regression', 'Random Forest','Decision Tree'],' Accuracy score': [results[0], results[1],results[2]]})\n",
    "my_data"
   ]
  }
 ],
 "metadata": {
  "kernelspec": {
   "display_name": "Python 3 (ipykernel)",
   "language": "python",
   "name": "python3"
  },
  "language_info": {
   "codemirror_mode": {
    "name": "ipython",
    "version": 3
   },
   "file_extension": ".py",
   "mimetype": "text/x-python",
   "name": "python",
   "nbconvert_exporter": "python",
   "pygments_lexer": "ipython3",
   "version": "3.9.12"
  }
 },
 "nbformat": 4,
 "nbformat_minor": 5
}
